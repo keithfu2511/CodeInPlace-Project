{
 "cells": [
  {
   "cell_type": "code",
   "execution_count": null,
   "id": "a79c56a5",
   "metadata": {},
   "outputs": [],
   "source": [
    "import openai"
   ]
  },
  {
   "cell_type": "code",
   "execution_count": null,
   "id": "9e2672a2",
   "metadata": {},
   "outputs": [],
   "source": [
    "import alpaca_trade_api as tradeapi\n",
    "\n",
    "key = \"PKGDU2MIBWB8TAE9CDQ0\"\n",
    "secret_key = \"el7A7EF5d5y3ILvYr17O30fwZkPKmUZfcZEVxUov\"\n",
    "BASE_URL = \"https://paper-api.alpaca.markets/\"\n",
    "\n",
    "api = tradeapi.REST(key, secret_key, BASE_URL, api_version=\"v2\")"
   ]
  },
  {
   "cell_type": "code",
   "execution_count": null,
   "id": "082e426a",
   "metadata": {},
   "outputs": [],
   "source": [
    "ef analyze_message(message):\n",
    "    portfolio_data = fetch_portfolio()\n",
    "    open_orders = fetch_open_orders()\n",
    "\n",
    "    pre_prompt = f\"\"\"\n",
    "    You are an AI Portfolio Manage responsible for analyzing my portfolio.\n",
    "    Your tasks are the following:\n",
    "    1.) Evaluate risk exposures of my current holdings\n",
    "    2.) Analyze my open limit orders and their potential impact\n",
    "    3.) provide insights into portfolio health, diversification, trade adj. etc.\n",
    "    4.) Speculate on the market outlook based on current market conditions\n",
    "    5.) Identify potential market risks and suggest risk management strategies\n",
    "\n",
    "    Here is my portfolio: {portfolio_data}\n",
    "\n",
    "    Here are my open orders {open_orders}\n",
    "\n",
    "    Overall, answer the following question with priority having that background: {message}\n",
    "    \"\"\"\n",
    "\n",
    "    response = openai.ChatCompletion.create(\n",
    "        model=\"gpt-4\",\n",
    "        messages=[{\"role\":\"system\", \"content\":pre_prompt}],\n",
    "        api_key = \"SECRET_KEY_OPENAI\"\n",
    "    )\n",
    "    return response['choices'][0]['message']['content']\n",
    "\n",
    "analysis = analyze_message(\"How is my portfolio doing?\")"
   ]
  },
  {
   "cell_type": "code",
   "execution_count": null,
   "id": "f2ad7332",
   "metadata": {},
   "outputs": [],
   "source": [
    "analysis"
   ]
  }
 ],
 "metadata": {
  "language_info": {
   "name": "python"
  }
 },
 "nbformat": 4,
 "nbformat_minor": 5
}
